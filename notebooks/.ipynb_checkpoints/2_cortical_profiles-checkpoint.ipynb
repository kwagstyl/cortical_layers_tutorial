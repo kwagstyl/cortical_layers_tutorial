{
 "cells": [
  {
   "cell_type": "markdown",
   "metadata": {},
   "source": [
    "## Notebook to interact with and visualise cortical intensity profiles"
   ]
  },
  {
   "cell_type": "code",
   "execution_count": 1,
   "metadata": {
    "collapsed": true
   },
   "outputs": [],
   "source": [
    "import numpy as np\n",
    "import nibabel as nb\n",
    "import matplotlib_surface_plotting as msp\n",
    "import matplotlib.pyplot as plt\n",
    "import os\n",
    "%matplotlib inline"
   ]
  },
  {
   "cell_type": "code",
   "execution_count": 2,
   "metadata": {
    "collapsed": true
   },
   "outputs": [],
   "source": [
    "#load mesh data\n",
    "data_dir='../data'\n",
    "surf=nb.load(os.path.join(data_dir,'gray_left_327680.surf.gii'))\n",
    "vertices, faces = surf.darrays[0].data,surf.darrays[1].data"
   ]
  },
  {
   "cell_type": "code",
   "execution_count": 4,
   "metadata": {
    "collapsed": true
   },
   "outputs": [],
   "source": [
    "#load profiles\n",
    "profiles = np.load(os.path.join(data_dir,'profiles_left.npy'))\n",
    "#load parcellation\n",
    "parcellation=np.loadtxt(os.path.join(data_dir,'HCP_left.txt'),dtype=int)\n",
    "labels = np.loadtxt(os.path.join(data_dir,'HCP_labels.txt'),dtype=str)\n"
   ]
  },
  {
   "cell_type": "code",
   "execution_count": 20,
   "metadata": {},
   "outputs": [
    {
     "name": "stdout",
     "output_type": "stream",
     "text": [
      "(163842, 200)\n",
      "(163842, 3)\n",
      "(163842,)\n"
     ]
    }
   ],
   "source": [
    "print(profiles.shape)\n",
    "print(vertices.shape)\n",
    "print(parcellation.shape)"
   ]
  },
  {
   "cell_type": "markdown",
   "metadata": {},
   "source": [
    "let's plot a single profile"
   ]
  },
  {
   "cell_type": "code",
   "execution_count": 22,
   "metadata": {},
   "outputs": [
    {
     "data": {
      "text/plain": [
       "<matplotlib.legend.Legend at 0x7f98f5b68390>"
      ]
     },
     "execution_count": 22,
     "metadata": {},
     "output_type": "execute_result"
    },
    {
     "data": {
      "image/png": "[encoded data removed]",
      "text/plain": [
       "<Figure size 432x288 with 1 Axes>"
      ]
     },
     "metadata": {
      "needs_background": "light"
     },
     "output_type": "display_data"
    }
   ],
   "source": [
    "plt.plot(profiles[400])\n",
    "plt.plot([0,0],[8000,20000],label='pial')\n",
    "plt.plot([200,200],[8000,20000],label='white')\n",
    "plt.xlabel('Cortical depth')\n",
    "plt.ylabel('Staining intensity')\n",
    "plt.legend()"
   ]
  },
  {
   "cell_type": "markdown",
   "metadata": {},
   "source": [
    "## Workshop task 1\n",
    "Plot a profile from V1 and S1"
   ]
  },
  {
   "cell_type": "code",
   "execution_count": null,
   "metadata": {
    "collapsed": true
   },
   "outputs": [],
   "source": []
  },
  {
   "cell_type": "code",
   "execution_count": null,
   "metadata": {
    "collapsed": true
   },
   "outputs": [],
   "source": []
  },
  {
   "cell_type": "markdown",
   "metadata": {},
   "source": [
    "## Workshop task 2\n",
    "Animal studies predict a rostro-caudal gradient of neuronal density, with higher densities at the back of the brain. Staining intensity is driven by cell-body density and size.\n",
    "\n",
    "Plot the mean staining intensity of each profile in the rostro-caudal/front back direction\n",
    "\n",
    "Hint : vertices[:,1] gives the front-back coordinate of each vertex"
   ]
  },
  {
   "cell_type": "code",
   "execution_count": null,
   "metadata": {},
   "outputs": [],
   "source": []
  },
  {
   "cell_type": "markdown",
   "metadata": {},
   "source": [
    "## Workshop task 2.1 \n",
    "\n",
    "Superimposed on the rostro-caudal gradient, the same studies show primary sensory areas especially neuronally dense.\n",
    "\n",
    "Colour the vertices in S1, V1 and A1 a different color from all of the other cortical vertices\n",
    "\n"
   ]
  },
  {
   "cell_type": "code",
   "execution_count": null,
   "metadata": {
    "collapsed": true
   },
   "outputs": [],
   "source": []
  }
 ],
 "metadata": {
  "kernelspec": {
   "display_name": "padl",
   "language": "python",
   "name": "padl"
  },
  "language_info": {
   "codemirror_mode": {
    "name": "ipython",
    "version": 3
   },
   "file_extension": ".py",
   "mimetype": "text/x-python",
   "name": "python",
   "nbconvert_exporter": "python",
   "pygments_lexer": "ipython3",
   "version": "3.7.4"
  }
 },
 "nbformat": 4,
 "nbformat_minor": 2
}
